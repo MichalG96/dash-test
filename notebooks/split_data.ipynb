{
 "cells": [
  {
   "cell_type": "code",
   "execution_count": 1,
   "metadata": {
    "collapsed": true
   },
   "outputs": [],
   "source": [
    "import pandas as pd"
   ]
  },
  {
   "cell_type": "code",
   "execution_count": 26,
   "outputs": [],
   "source": [
    "df_old = pd.read_csv(\"../data.csv\")"
   ],
   "metadata": {
    "collapsed": false
   }
  },
  {
   "cell_type": "code",
   "execution_count": 27,
   "outputs": [
    {
     "data": {
      "text/plain": "'2022-12-08'"
     },
     "execution_count": 27,
     "metadata": {},
     "output_type": "execute_result"
    }
   ],
   "source": [
    "min(df_old[\"date\"])"
   ],
   "metadata": {
    "collapsed": false
   }
  },
  {
   "cell_type": "code",
   "execution_count": 28,
   "outputs": [
    {
     "data": {
      "text/plain": "'2023-02-10'"
     },
     "execution_count": 28,
     "metadata": {},
     "output_type": "execute_result"
    }
   ],
   "source": [
    "max(df_old[\"date\"])"
   ],
   "metadata": {
    "collapsed": false
   }
  },
  {
   "cell_type": "code",
   "execution_count": 18,
   "outputs": [
    {
     "data": {
      "text/plain": "           date time_of_day  weight\n0    2022-12-08     morning    93.6\n1    2022-12-08     evening    94.3\n2    2022-12-09     morning    92.4\n3    2022-12-10     evening    94.4\n4    2022-12-11     morning    93.6\n..          ...         ...     ...\n124  2023-02-09     morning    88.2\n125  2023-02-09     evening    90.2\n126  2023-02-10     morning    89.1\n127  2023-02-10     evening    89.0\n128  2023-02-11     morning    87.8\n\n[129 rows x 3 columns]",
      "text/html": "<div>\n<style scoped>\n    .dataframe tbody tr th:only-of-type {\n        vertical-align: middle;\n    }\n\n    .dataframe tbody tr th {\n        vertical-align: top;\n    }\n\n    .dataframe thead th {\n        text-align: right;\n    }\n</style>\n<table border=\"1\" class=\"dataframe\">\n  <thead>\n    <tr style=\"text-align: right;\">\n      <th></th>\n      <th>date</th>\n      <th>time_of_day</th>\n      <th>weight</th>\n    </tr>\n  </thead>\n  <tbody>\n    <tr>\n      <th>0</th>\n      <td>2022-12-08</td>\n      <td>morning</td>\n      <td>93.6</td>\n    </tr>\n    <tr>\n      <th>1</th>\n      <td>2022-12-08</td>\n      <td>evening</td>\n      <td>94.3</td>\n    </tr>\n    <tr>\n      <th>2</th>\n      <td>2022-12-09</td>\n      <td>morning</td>\n      <td>92.4</td>\n    </tr>\n    <tr>\n      <th>3</th>\n      <td>2022-12-10</td>\n      <td>evening</td>\n      <td>94.4</td>\n    </tr>\n    <tr>\n      <th>4</th>\n      <td>2022-12-11</td>\n      <td>morning</td>\n      <td>93.6</td>\n    </tr>\n    <tr>\n      <th>...</th>\n      <td>...</td>\n      <td>...</td>\n      <td>...</td>\n    </tr>\n    <tr>\n      <th>124</th>\n      <td>2023-02-09</td>\n      <td>morning</td>\n      <td>88.2</td>\n    </tr>\n    <tr>\n      <th>125</th>\n      <td>2023-02-09</td>\n      <td>evening</td>\n      <td>90.2</td>\n    </tr>\n    <tr>\n      <th>126</th>\n      <td>2023-02-10</td>\n      <td>morning</td>\n      <td>89.1</td>\n    </tr>\n    <tr>\n      <th>127</th>\n      <td>2023-02-10</td>\n      <td>evening</td>\n      <td>89.0</td>\n    </tr>\n    <tr>\n      <th>128</th>\n      <td>2023-02-11</td>\n      <td>morning</td>\n      <td>87.8</td>\n    </tr>\n  </tbody>\n</table>\n<p>129 rows × 3 columns</p>\n</div>"
     },
     "execution_count": 18,
     "metadata": {},
     "output_type": "execute_result"
    }
   ],
   "source": [
    "df_old"
   ],
   "metadata": {
    "collapsed": false
   }
  },
  {
   "cell_type": "code",
   "execution_count": 32,
   "outputs": [],
   "source": [
    "filename = f\"../data_{min(df_old['date']).replace('-', '.')}-{max(df_old['date']).replace('-', '.')}.parquet\""
   ],
   "metadata": {
    "collapsed": false
   }
  },
  {
   "cell_type": "code",
   "execution_count": 43,
   "outputs": [
    {
     "data": {
      "text/plain": "'../data_2022.12.08-2023.02.10.parquet'"
     },
     "execution_count": 43,
     "metadata": {},
     "output_type": "execute_result"
    }
   ],
   "source": [
    "filename"
   ],
   "metadata": {
    "collapsed": false
   }
  },
  {
   "cell_type": "code",
   "execution_count": 33,
   "outputs": [],
   "source": [
    "df_old.to_parquet(filename)"
   ],
   "metadata": {
    "collapsed": false
   }
  },
  {
   "cell_type": "code",
   "execution_count": 34,
   "outputs": [],
   "source": [
    "df = pd.read_parquet(filename)"
   ],
   "metadata": {
    "collapsed": false
   }
  },
  {
   "cell_type": "code",
   "execution_count": 21,
   "outputs": [
    {
     "data": {
      "text/plain": "           date time_of_day  weight\n0    2022-12-08     morning    93.6\n1    2022-12-08     evening    94.3\n2    2022-12-09     morning    92.4\n3    2022-12-10     evening    94.4\n4    2022-12-11     morning    93.6\n..          ...         ...     ...\n124  2023-02-09     morning    88.2\n125  2023-02-09     evening    90.2\n126  2023-02-10     morning    89.1\n127  2023-02-10     evening    89.0\n128  2023-02-11     morning    87.8\n\n[129 rows x 3 columns]",
      "text/html": "<div>\n<style scoped>\n    .dataframe tbody tr th:only-of-type {\n        vertical-align: middle;\n    }\n\n    .dataframe tbody tr th {\n        vertical-align: top;\n    }\n\n    .dataframe thead th {\n        text-align: right;\n    }\n</style>\n<table border=\"1\" class=\"dataframe\">\n  <thead>\n    <tr style=\"text-align: right;\">\n      <th></th>\n      <th>date</th>\n      <th>time_of_day</th>\n      <th>weight</th>\n    </tr>\n  </thead>\n  <tbody>\n    <tr>\n      <th>0</th>\n      <td>2022-12-08</td>\n      <td>morning</td>\n      <td>93.6</td>\n    </tr>\n    <tr>\n      <th>1</th>\n      <td>2022-12-08</td>\n      <td>evening</td>\n      <td>94.3</td>\n    </tr>\n    <tr>\n      <th>2</th>\n      <td>2022-12-09</td>\n      <td>morning</td>\n      <td>92.4</td>\n    </tr>\n    <tr>\n      <th>3</th>\n      <td>2022-12-10</td>\n      <td>evening</td>\n      <td>94.4</td>\n    </tr>\n    <tr>\n      <th>4</th>\n      <td>2022-12-11</td>\n      <td>morning</td>\n      <td>93.6</td>\n    </tr>\n    <tr>\n      <th>...</th>\n      <td>...</td>\n      <td>...</td>\n      <td>...</td>\n    </tr>\n    <tr>\n      <th>124</th>\n      <td>2023-02-09</td>\n      <td>morning</td>\n      <td>88.2</td>\n    </tr>\n    <tr>\n      <th>125</th>\n      <td>2023-02-09</td>\n      <td>evening</td>\n      <td>90.2</td>\n    </tr>\n    <tr>\n      <th>126</th>\n      <td>2023-02-10</td>\n      <td>morning</td>\n      <td>89.1</td>\n    </tr>\n    <tr>\n      <th>127</th>\n      <td>2023-02-10</td>\n      <td>evening</td>\n      <td>89.0</td>\n    </tr>\n    <tr>\n      <th>128</th>\n      <td>2023-02-11</td>\n      <td>morning</td>\n      <td>87.8</td>\n    </tr>\n  </tbody>\n</table>\n<p>129 rows × 3 columns</p>\n</div>"
     },
     "execution_count": 21,
     "metadata": {},
     "output_type": "execute_result"
    }
   ],
   "source": [
    "df"
   ],
   "metadata": {
    "collapsed": false
   }
  },
  {
   "cell_type": "code",
   "execution_count": 35,
   "outputs": [],
   "source": [
    "new_df = pd.DataFrame(\n",
    "    {\"date\": pd.date_range(start=\"2023-02-11\", end=\"2023-03-31\", freq=\"12H\")[:-1]}\n",
    ")\n",
    "new_df[\"date\"] = pd.to_datetime(new_df[\"date\"]).dt.date\n",
    "tod = [\"morning\", \"evening\"] * (len(new_df) // 2)\n",
    "new_df[\"time_of_day\"] = tod\n",
    "new_df[\"weight\"] = None"
   ],
   "metadata": {
    "collapsed": false
   }
  },
  {
   "cell_type": "code",
   "execution_count": 36,
   "outputs": [
    {
     "data": {
      "text/plain": "          date time_of_day weight\n0   2023-02-11     morning   None\n1   2023-02-11     evening   None\n2   2023-02-12     morning   None\n3   2023-02-12     evening   None\n4   2023-02-13     morning   None\n..         ...         ...    ...\n91  2023-03-28     evening   None\n92  2023-03-29     morning   None\n93  2023-03-29     evening   None\n94  2023-03-30     morning   None\n95  2023-03-30     evening   None\n\n[96 rows x 3 columns]",
      "text/html": "<div>\n<style scoped>\n    .dataframe tbody tr th:only-of-type {\n        vertical-align: middle;\n    }\n\n    .dataframe tbody tr th {\n        vertical-align: top;\n    }\n\n    .dataframe thead th {\n        text-align: right;\n    }\n</style>\n<table border=\"1\" class=\"dataframe\">\n  <thead>\n    <tr style=\"text-align: right;\">\n      <th></th>\n      <th>date</th>\n      <th>time_of_day</th>\n      <th>weight</th>\n    </tr>\n  </thead>\n  <tbody>\n    <tr>\n      <th>0</th>\n      <td>2023-02-11</td>\n      <td>morning</td>\n      <td>None</td>\n    </tr>\n    <tr>\n      <th>1</th>\n      <td>2023-02-11</td>\n      <td>evening</td>\n      <td>None</td>\n    </tr>\n    <tr>\n      <th>2</th>\n      <td>2023-02-12</td>\n      <td>morning</td>\n      <td>None</td>\n    </tr>\n    <tr>\n      <th>3</th>\n      <td>2023-02-12</td>\n      <td>evening</td>\n      <td>None</td>\n    </tr>\n    <tr>\n      <th>4</th>\n      <td>2023-02-13</td>\n      <td>morning</td>\n      <td>None</td>\n    </tr>\n    <tr>\n      <th>...</th>\n      <td>...</td>\n      <td>...</td>\n      <td>...</td>\n    </tr>\n    <tr>\n      <th>91</th>\n      <td>2023-03-28</td>\n      <td>evening</td>\n      <td>None</td>\n    </tr>\n    <tr>\n      <th>92</th>\n      <td>2023-03-29</td>\n      <td>morning</td>\n      <td>None</td>\n    </tr>\n    <tr>\n      <th>93</th>\n      <td>2023-03-29</td>\n      <td>evening</td>\n      <td>None</td>\n    </tr>\n    <tr>\n      <th>94</th>\n      <td>2023-03-30</td>\n      <td>morning</td>\n      <td>None</td>\n    </tr>\n    <tr>\n      <th>95</th>\n      <td>2023-03-30</td>\n      <td>evening</td>\n      <td>None</td>\n    </tr>\n  </tbody>\n</table>\n<p>96 rows × 3 columns</p>\n</div>"
     },
     "execution_count": 36,
     "metadata": {},
     "output_type": "execute_result"
    }
   ],
   "source": [
    "new_df"
   ],
   "metadata": {
    "collapsed": false
   }
  },
  {
   "cell_type": "code",
   "execution_count": 37,
   "outputs": [],
   "source": [
    "new_df.to_csv('../data_current.csv', index=False)"
   ],
   "metadata": {
    "collapsed": false
   }
  },
  {
   "cell_type": "code",
   "execution_count": null,
   "outputs": [],
   "source": [],
   "metadata": {
    "collapsed": false
   }
  },
  {
   "cell_type": "code",
   "execution_count": 38,
   "outputs": [],
   "source": [
    "df_parquet = pd.read_parquet(filename)\n",
    "df_csv = pd.read_csv('../data_current.csv')"
   ],
   "metadata": {
    "collapsed": false
   }
  },
  {
   "cell_type": "code",
   "execution_count": 42,
   "outputs": [
    {
     "data": {
      "text/plain": "           date time_of_day  weight\n0    2022-12-08     morning    93.6\n1    2022-12-08     evening    94.3\n2    2022-12-09     morning    92.4\n3    2022-12-10     evening    94.4\n4    2022-12-11     morning    93.6\n..          ...         ...     ...\n219  2023-03-28     evening     NaN\n220  2023-03-29     morning     NaN\n221  2023-03-29     evening     NaN\n222  2023-03-30     morning     NaN\n223  2023-03-30     evening     NaN\n\n[224 rows x 3 columns]",
      "text/html": "<div>\n<style scoped>\n    .dataframe tbody tr th:only-of-type {\n        vertical-align: middle;\n    }\n\n    .dataframe tbody tr th {\n        vertical-align: top;\n    }\n\n    .dataframe thead th {\n        text-align: right;\n    }\n</style>\n<table border=\"1\" class=\"dataframe\">\n  <thead>\n    <tr style=\"text-align: right;\">\n      <th></th>\n      <th>date</th>\n      <th>time_of_day</th>\n      <th>weight</th>\n    </tr>\n  </thead>\n  <tbody>\n    <tr>\n      <th>0</th>\n      <td>2022-12-08</td>\n      <td>morning</td>\n      <td>93.6</td>\n    </tr>\n    <tr>\n      <th>1</th>\n      <td>2022-12-08</td>\n      <td>evening</td>\n      <td>94.3</td>\n    </tr>\n    <tr>\n      <th>2</th>\n      <td>2022-12-09</td>\n      <td>morning</td>\n      <td>92.4</td>\n    </tr>\n    <tr>\n      <th>3</th>\n      <td>2022-12-10</td>\n      <td>evening</td>\n      <td>94.4</td>\n    </tr>\n    <tr>\n      <th>4</th>\n      <td>2022-12-11</td>\n      <td>morning</td>\n      <td>93.6</td>\n    </tr>\n    <tr>\n      <th>...</th>\n      <td>...</td>\n      <td>...</td>\n      <td>...</td>\n    </tr>\n    <tr>\n      <th>219</th>\n      <td>2023-03-28</td>\n      <td>evening</td>\n      <td>NaN</td>\n    </tr>\n    <tr>\n      <th>220</th>\n      <td>2023-03-29</td>\n      <td>morning</td>\n      <td>NaN</td>\n    </tr>\n    <tr>\n      <th>221</th>\n      <td>2023-03-29</td>\n      <td>evening</td>\n      <td>NaN</td>\n    </tr>\n    <tr>\n      <th>222</th>\n      <td>2023-03-30</td>\n      <td>morning</td>\n      <td>NaN</td>\n    </tr>\n    <tr>\n      <th>223</th>\n      <td>2023-03-30</td>\n      <td>evening</td>\n      <td>NaN</td>\n    </tr>\n  </tbody>\n</table>\n<p>224 rows × 3 columns</p>\n</div>"
     },
     "execution_count": 42,
     "metadata": {},
     "output_type": "execute_result"
    }
   ],
   "source": [
    "pd.concat([df_parquet, df_csv], ignore_index=True)"
   ],
   "metadata": {
    "collapsed": false
   }
  }
 ],
 "metadata": {
  "kernelspec": {
   "display_name": "Python 3",
   "language": "python",
   "name": "python3"
  },
  "language_info": {
   "codemirror_mode": {
    "name": "ipython",
    "version": 2
   },
   "file_extension": ".py",
   "mimetype": "text/x-python",
   "name": "python",
   "nbconvert_exporter": "python",
   "pygments_lexer": "ipython2",
   "version": "2.7.6"
  }
 },
 "nbformat": 4,
 "nbformat_minor": 0
}
